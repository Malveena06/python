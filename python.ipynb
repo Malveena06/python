{
  "nbformat": 4,
  "nbformat_minor": 0,
  "metadata": {
    "colab": {
      "provenance": [],
      "authorship_tag": "ABX9TyMHJQeotjeRdDJ0fUO00o3F",
      "include_colab_link": true
    },
    "kernelspec": {
      "name": "python3",
      "display_name": "Python 3"
    },
    "language_info": {
      "name": "python"
    }
  },
  "cells": [
    {
      "cell_type": "markdown",
      "metadata": {
        "id": "view-in-github",
        "colab_type": "text"
      },
      "source": [
        "<a href=\"https://colab.research.google.com/github/Malveena06/python/blob/main/python.ipynb\" target=\"_parent\"><img src=\"https://colab.research.google.com/assets/colab-badge.svg\" alt=\"Open In Colab\"/></a>"
      ]
    },
    {
      "cell_type": "markdown",
      "source": [
        "# *basics* *of* *python*"
      ],
      "metadata": {
        "id": "RJQgBogsy8ty"
      }
    },
    {
      "cell_type": "code",
      "execution_count": 1,
      "metadata": {
        "colab": {
          "base_uri": "https://localhost:8080/"
        },
        "id": "dqqYqJN3ydwf",
        "outputId": "346cc82c-93ad-4c0a-cf5c-6d7934f97913"
      },
      "outputs": [
        {
          "output_type": "stream",
          "name": "stdout",
          "text": [
            "8.18535277187245\n"
          ]
        }
      ],
      "source": [
        "# Find square root of 67\n",
        "num = 67\n",
        "num_square_root = (num)**(1/2)\n",
        "print(num_square_root)"
      ]
    },
    {
      "cell_type": "code",
      "source": [
        "# Calculate the area of the triangle having three sides 5 , 6 and 7\n",
        "s1= 5\n",
        "s2 = 6\n",
        "s3 = 7\n",
        "semi_perimeter = (s1+s2+s3)/2\n",
        "area = (semi_perimeter*(semi_perimeter -s1)*(semi_perimeter-s2)*(semi_perimeter-s3))**0.5\n",
        "print(\"Area of triangle :- \")\n",
        "print(area)"
      ],
      "metadata": {
        "colab": {
          "base_uri": "https://localhost:8080/"
        },
        "id": "ldJlApmy0HEz",
        "outputId": "64e08778-2fcf-4a5b-d7b5-9f09c04a8276"
      },
      "execution_count": 2,
      "outputs": [
        {
          "output_type": "stream",
          "name": "stdout",
          "text": [
            "Area of triangle :- \n",
            "14.696938456699069\n"
          ]
        }
      ]
    },
    {
      "cell_type": "code",
      "source": [
        "# Swap the two numbers\n",
        "x = 10\n",
        "y=20\n",
        "x= x+y\n",
        "y = x-y\n",
        "x= x-y\n",
        "print(\"x\",x)\n",
        "print(\"y\",y)\n"
      ],
      "metadata": {
        "colab": {
          "base_uri": "https://localhost:8080/"
        },
        "id": "RwVuLpgV0HH8",
        "outputId": "a038357f-b509-4d8e-f1bc-a61b18109aae"
      },
      "execution_count": 3,
      "outputs": [
        {
          "output_type": "stream",
          "name": "stdout",
          "text": [
            "x 20\n",
            "y 10\n"
          ]
        }
      ]
    },
    {
      "cell_type": "code",
      "source": [],
      "metadata": {
        "id": "Gp4tThDe0HLO"
      },
      "execution_count": null,
      "outputs": []
    },
    {
      "cell_type": "code",
      "source": [],
      "metadata": {
        "id": "WnOwEoBr0HPK"
      },
      "execution_count": null,
      "outputs": []
    }
  ]
}