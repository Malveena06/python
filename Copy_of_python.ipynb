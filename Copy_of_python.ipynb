{
  "nbformat": 4,
  "nbformat_minor": 0,
  "metadata": {
    "colab": {
      "provenance": [],
      "toc_visible": true,
      "authorship_tag": "ABX9TyPpQLlk9bg+bxbqbWaODk6N",
      "include_colab_link": true
    },
    "kernelspec": {
      "name": "python3",
      "display_name": "Python 3"
    },
    "language_info": {
      "name": "python"
    }
  },
  "cells": [
    {
      "cell_type": "markdown",
      "metadata": {
        "id": "view-in-github",
        "colab_type": "text"
      },
      "source": [
        "<a href=\"https://colab.research.google.com/github/Malveena06/python/blob/main/Copy_of_python.ipynb\" target=\"_parent\"><img src=\"https://colab.research.google.com/assets/colab-badge.svg\" alt=\"Open In Colab\"/></a>"
      ]
    },
    {
      "cell_type": "markdown",
      "source": [
        "# *basics* *of* *python*"
      ],
      "metadata": {
        "id": "RJQgBogsy8ty"
      }
    },
    {
      "cell_type": "code",
      "execution_count": null,
      "metadata": {
        "colab": {
          "base_uri": "https://localhost:8080/"
        },
        "id": "dqqYqJN3ydwf",
        "outputId": "346cc82c-93ad-4c0a-cf5c-6d7934f97913"
      },
      "outputs": [
        {
          "output_type": "stream",
          "name": "stdout",
          "text": [
            "8.18535277187245\n"
          ]
        }
      ],
      "source": [
        "# Find square root of 67\n",
        "num = 67\n",
        "num_square_root = (num)**(1/2)\n",
        "print(num_square_root)"
      ]
    },
    {
      "cell_type": "code",
      "source": [
        "# Calculate the area of the triangle having three sides 5 , 6 and 7\n",
        "s1= 5\n",
        "s2 = 6\n",
        "s3 = 7\n",
        "semi_perimeter = (s1+s2+s3)/2\n",
        "area = (semi_perimeter*(semi_perimeter -s1)*(semi_perimeter-s2)*(semi_perimeter-s3))**0.5\n",
        "print(\"Area of triangle :- \")\n",
        "print(area)"
      ],
      "metadata": {
        "colab": {
          "base_uri": "https://localhost:8080/"
        },
        "id": "ldJlApmy0HEz",
        "outputId": "64e08778-2fcf-4a5b-d7b5-9f09c04a8276"
      },
      "execution_count": null,
      "outputs": [
        {
          "output_type": "stream",
          "name": "stdout",
          "text": [
            "Area of triangle :- \n",
            "14.696938456699069\n"
          ]
        }
      ]
    },
    {
      "cell_type": "code",
      "source": [
        "# Swap the two numbers\n",
        "x = 10\n",
        "y=20\n",
        "x= x+y\n",
        "y = x-y\n",
        "x= x-y\n",
        "print(\"x\",x)\n",
        "print(\"y\",y)\n"
      ],
      "metadata": {
        "colab": {
          "base_uri": "https://localhost:8080/"
        },
        "id": "RwVuLpgV0HH8",
        "outputId": "a038357f-b509-4d8e-f1bc-a61b18109aae"
      },
      "execution_count": null,
      "outputs": [
        {
          "output_type": "stream",
          "name": "stdout",
          "text": [
            "x 20\n",
            "y 10\n"
          ]
        }
      ]
    },
    {
      "cell_type": "markdown",
      "source": [
        "# String\n"
      ],
      "metadata": {
        "id": "5-6J99tp0Gov"
      }
    },
    {
      "cell_type": "code",
      "source": [
        "# capitalize\n",
        "string1 =\"i am using google collab \""
      ],
      "metadata": {
        "id": "psbx7BHY0ReL"
      },
      "execution_count": null,
      "outputs": []
    },
    {
      "cell_type": "code",
      "source": [
        "string1.capitalize()"
      ],
      "metadata": {
        "colab": {
          "base_uri": "https://localhost:8080/",
          "height": 36
        },
        "id": "2eeO1qIN0RMu",
        "outputId": "00b259f9-b29f-4119-f07e-60e9b5c1581e"
      },
      "execution_count": null,
      "outputs": [
        {
          "output_type": "execute_result",
          "data": {
            "text/plain": [
              "'I am using google collab '"
            ],
            "application/vnd.google.colaboratory.intrinsic+json": {
              "type": "string"
            }
          },
          "metadata": {},
          "execution_count": 2
        }
      ]
    },
    {
      "cell_type": "code",
      "source": [
        "# len()\n",
        "len(string1)"
      ],
      "metadata": {
        "colab": {
          "base_uri": "https://localhost:8080/"
        },
        "id": "TRr7ph44752n",
        "outputId": "ae51870f-f7f0-4d85-fef9-14fc6f8efb12"
      },
      "execution_count": null,
      "outputs": [
        {
          "output_type": "execute_result",
          "data": {
            "text/plain": [
              "25"
            ]
          },
          "metadata": {},
          "execution_count": 4
        }
      ]
    },
    {
      "cell_type": "code",
      "source": [
        "# center()\n",
        "# it will allign it in center\n",
        "# Syntax -> variable.center(len, char)\n",
        "string1.center(40 , \"*\")"
      ],
      "metadata": {
        "colab": {
          "base_uri": "https://localhost:8080/",
          "height": 36
        },
        "id": "4z_E2Q2W76G7",
        "outputId": "7e738369-78a9-4274-c71f-3eedd3c52c61"
      },
      "execution_count": null,
      "outputs": [
        {
          "output_type": "execute_result",
          "data": {
            "text/plain": [
              "'*******i am using google collab ********'"
            ],
            "application/vnd.google.colaboratory.intrinsic+json": {
              "type": "string"
            }
          },
          "metadata": {},
          "execution_count": 8
        }
      ]
    },
    {
      "cell_type": "code",
      "source": [
        "# endswith()\n",
        "# syntax -> variable.endswith(value, start , end)\n",
        "string1.endswith(\"b\")"
      ],
      "metadata": {
        "colab": {
          "base_uri": "https://localhost:8080/"
        },
        "id": "wd1PrBbI-UVo",
        "outputId": "ee45b42d-a694-4476-e163-f07c3237f7a2"
      },
      "execution_count": null,
      "outputs": [
        {
          "output_type": "execute_result",
          "data": {
            "text/plain": [
              "False"
            ]
          },
          "metadata": {},
          "execution_count": 15
        }
      ]
    },
    {
      "cell_type": "code",
      "source": [
        "string1.endswith(\"b\",0,25)"
      ],
      "metadata": {
        "colab": {
          "base_uri": "https://localhost:8080/"
        },
        "id": "n8f3NBZb-Uht",
        "outputId": "e641325c-430b-4a15-8e26-93b106d2efcd"
      },
      "execution_count": null,
      "outputs": [
        {
          "output_type": "execute_result",
          "data": {
            "text/plain": [
              "False"
            ]
          },
          "metadata": {},
          "execution_count": 14
        }
      ]
    },
    {
      "cell_type": "code",
      "source": [
        "string1.endswith(\" \")"
      ],
      "metadata": {
        "colab": {
          "base_uri": "https://localhost:8080/"
        },
        "id": "mYWOq5gm_FdQ",
        "outputId": "7c5126a0-a941-43d0-f935-48ed73ba4b74"
      },
      "execution_count": null,
      "outputs": [
        {
          "output_type": "execute_result",
          "data": {
            "text/plain": [
              "True"
            ]
          },
          "metadata": {},
          "execution_count": 16
        }
      ]
    },
    {
      "cell_type": "code",
      "source": [
        "# startswith()\n",
        "# Synatax -> variable.startswith(value, start , end)\n",
        "string1.startswith(\"i\")"
      ],
      "metadata": {
        "colab": {
          "base_uri": "https://localhost:8080/"
        },
        "id": "x2t1wIOi_Fg0",
        "outputId": "1dc55090-8e74-4339-c94c-1b210f4b8bae"
      },
      "execution_count": null,
      "outputs": [
        {
          "output_type": "execute_result",
          "data": {
            "text/plain": [
              "True"
            ]
          },
          "metadata": {},
          "execution_count": 17
        }
      ]
    },
    {
      "cell_type": "code",
      "source": [
        "# count()\n",
        "string1.count(\"g\")"
      ],
      "metadata": {
        "colab": {
          "base_uri": "https://localhost:8080/"
        },
        "id": "UYXxe-CHHp7Y",
        "outputId": "0691583c-e03a-49bf-d6eb-a45e4973b1a2"
      },
      "execution_count": null,
      "outputs": [
        {
          "output_type": "execute_result",
          "data": {
            "text/plain": [
              "3"
            ]
          },
          "metadata": {},
          "execution_count": 19
        }
      ]
    },
    {
      "cell_type": "code",
      "source": [
        "# upper() & lower()\n",
        "str2 =string1.upper()\n",
        "print(\"upper\",str2)\n",
        "str3= string1.lower()\n",
        "print(\"lower\", str3)"
      ],
      "metadata": {
        "colab": {
          "base_uri": "https://localhost:8080/"
        },
        "id": "x6Poz-nzHp-l",
        "outputId": "1fb59d19-2f44-4c0d-a421-83c078a338f5"
      },
      "execution_count": null,
      "outputs": [
        {
          "output_type": "stream",
          "name": "stdout",
          "text": [
            "upper I AM USING GOOGLE COLLAB \n",
            "lower i am using google collab \n"
          ]
        }
      ]
    },
    {
      "cell_type": "code",
      "source": [
        "# input\n",
        "# input() -> data type will be string by default\n",
        "a = input()"
      ],
      "metadata": {
        "colab": {
          "base_uri": "https://localhost:8080/"
        },
        "id": "_6aSXlUvHqCQ",
        "outputId": "cadbe653-4ce5-459b-8bc8-f61e75a751ca"
      },
      "execution_count": null,
      "outputs": [
        {
          "name": "stdout",
          "output_type": "stream",
          "text": [
            "25\n"
          ]
        }
      ]
    },
    {
      "cell_type": "code",
      "source": [
        "# typecasting\n",
        "cost = 500"
      ],
      "metadata": {
        "id": "TSUNWQeuMhnD"
      },
      "execution_count": null,
      "outputs": []
    },
    {
      "cell_type": "code",
      "source": [
        "type(cost)"
      ],
      "metadata": {
        "colab": {
          "base_uri": "https://localhost:8080/"
        },
        "id": "wjV7FjPSMhqJ",
        "outputId": "2f0f2d0b-a91b-42d5-8aa9-2440fc7de863"
      },
      "execution_count": null,
      "outputs": [
        {
          "output_type": "execute_result",
          "data": {
            "text/plain": [
              "int"
            ]
          },
          "metadata": {},
          "execution_count": 3
        }
      ]
    },
    {
      "cell_type": "code",
      "source": [
        "# for changing the data type of cost from integer to string we do this\n",
        "type(str(cost))"
      ],
      "metadata": {
        "colab": {
          "base_uri": "https://localhost:8080/"
        },
        "id": "zdKlH3t4Mhsr",
        "outputId": "7766fa41-ee87-4eda-981a-a07abd133606"
      },
      "execution_count": null,
      "outputs": [
        {
          "output_type": "execute_result",
          "data": {
            "text/plain": [
              "str"
            ]
          },
          "metadata": {},
          "execution_count": 4
        }
      ]
    },
    {
      "cell_type": "code",
      "source": [
        "c = input(\"Enter the value of c \")\n",
        "d = input(\"enter the value of d \")"
      ],
      "metadata": {
        "colab": {
          "base_uri": "https://localhost:8080/"
        },
        "id": "5Rss9MohMhwI",
        "outputId": "1b09aebd-a6b2-42bf-de32-c8c2545f530d"
      },
      "execution_count": null,
      "outputs": [
        {
          "name": "stdout",
          "output_type": "stream",
          "text": [
            "Enter the value of c 46\n",
            "enter the value of d 67\n"
          ]
        }
      ]
    },
    {
      "cell_type": "code",
      "source": [
        "c + d"
      ],
      "metadata": {
        "colab": {
          "base_uri": "https://localhost:8080/",
          "height": 36
        },
        "id": "20ITLfpgTqvt",
        "outputId": "7053696f-2b0c-48f7-8764-66605f8bfbd5"
      },
      "execution_count": null,
      "outputs": [
        {
          "output_type": "execute_result",
          "data": {
            "text/plain": [
              "'4667'"
            ],
            "application/vnd.google.colaboratory.intrinsic+json": {
              "type": "string"
            }
          },
          "metadata": {},
          "execution_count": 7
        }
      ]
    },
    {
      "cell_type": "code",
      "source": [
        "type(c)"
      ],
      "metadata": {
        "colab": {
          "base_uri": "https://localhost:8080/"
        },
        "id": "-hxdLE4qTqye",
        "outputId": "f70284b5-db29-4c8c-bf34-ee9b5a9f8b86"
      },
      "execution_count": null,
      "outputs": [
        {
          "output_type": "execute_result",
          "data": {
            "text/plain": [
              "str"
            ]
          },
          "metadata": {},
          "execution_count": 8
        }
      ]
    },
    {
      "cell_type": "code",
      "source": [
        "# now we are going to apply typecasting in the input values and change it to integer data type\n",
        "c = int(input(\"Enter the value of c \"))\n",
        "d = int(input(\"Enter the value of d \"))"
      ],
      "metadata": {
        "colab": {
          "base_uri": "https://localhost:8080/"
        },
        "id": "9BsDgtglTq2p",
        "outputId": "293b315e-1776-4961-8e9f-313f3acdeeb6"
      },
      "execution_count": null,
      "outputs": [
        {
          "name": "stdout",
          "output_type": "stream",
          "text": [
            "Enter the value of c 46\n",
            "Enter the value of d 67\n"
          ]
        }
      ]
    },
    {
      "cell_type": "code",
      "source": [
        "c + d"
      ],
      "metadata": {
        "colab": {
          "base_uri": "https://localhost:8080/"
        },
        "id": "5-qG6OteUJGj",
        "outputId": "36b432bb-454e-4757-eb68-e0622381ee69"
      },
      "execution_count": null,
      "outputs": [
        {
          "output_type": "execute_result",
          "data": {
            "text/plain": [
              "113"
            ]
          },
          "metadata": {},
          "execution_count": 10
        }
      ]
    },
    {
      "cell_type": "code",
      "source": [
        "type(c)"
      ],
      "metadata": {
        "colab": {
          "base_uri": "https://localhost:8080/"
        },
        "id": "YHYF2pQ_UJJr",
        "outputId": "3ffc6abc-8cfd-441d-cbbd-cb17ec009528"
      },
      "execution_count": null,
      "outputs": [
        {
          "output_type": "execute_result",
          "data": {
            "text/plain": [
              "int"
            ]
          },
          "metadata": {},
          "execution_count": 11
        }
      ]
    },
    {
      "cell_type": "code",
      "source": [
        "# take two numbers as an input from the user and perform the following operation(a+b)-(-a)\n",
        "a = int(input(\"Enter the value of a :- \"))\n",
        "b = int(input(\"Enter the value of b :- \"))\n",
        "c = (a+b) -(-a)\n",
        "print(c)"
      ],
      "metadata": {
        "colab": {
          "base_uri": "https://localhost:8080/"
        },
        "id": "jRkHylOv7kCw",
        "outputId": "76b6cebe-e32e-495f-98b8-39270d166d4d"
      },
      "execution_count": 1,
      "outputs": [
        {
          "output_type": "stream",
          "name": "stdout",
          "text": [
            "Enter the value of a :- 10\n",
            "Enter the value of b :- 20\n",
            "40\n"
          ]
        }
      ]
    },
    {
      "cell_type": "code",
      "source": [],
      "metadata": {
        "id": "4Y8xb8sA7kRj"
      },
      "execution_count": null,
      "outputs": []
    },
    {
      "cell_type": "markdown",
      "source": [
        "# Python Data structure"
      ],
      "metadata": {
        "id": "SilXzkRVkEdC"
      }
    },
    {
      "cell_type": "code",
      "source": [
        "# Arrays , Stack , Queue , Linked List , Hashing , Graph , Trees\n",
        "1. List -[12, \"String\", \"Float\", 4.56 , {\"Key\":\"Value\"}] # List stores the heterogeneous data while array stores homogeneous data\n",
        "2. Tuple -() # it is same as list but the difference is that tuple is immutable(means its values cannot be changed)while list is mutable.\n",
        "3. Set - {} # set do not contain the repeated values , it will only work on integer datatype\n",
        "4. Dict - {key:value}"
      ],
      "metadata": {
        "id": "Me8lzXgzjp09"
      },
      "execution_count": null,
      "outputs": []
    },
    {
      "cell_type": "code",
      "source": [
        "# sets\n",
        "1. it is unordered\n",
        "2. it is unchangeable -> in-built\n",
        "3. {}\n",
        "4. it does not support duplicacy\n",
        "5. also python data structure\n"
      ],
      "metadata": {
        "id": "DB808zvvjp5T"
      },
      "execution_count": null,
      "outputs": []
    },
    {
      "cell_type": "code",
      "source": [],
      "metadata": {
        "id": "cVXkL8ibjqB0"
      },
      "execution_count": null,
      "outputs": []
    },
    {
      "cell_type": "code",
      "source": [],
      "metadata": {
        "id": "0OptGiZgjqF4"
      },
      "execution_count": null,
      "outputs": []
    },
    {
      "cell_type": "code",
      "source": [],
      "metadata": {
        "id": "5wWOWFvRjqPW"
      },
      "execution_count": null,
      "outputs": []
    },
    {
      "cell_type": "code",
      "source": [],
      "metadata": {
        "id": "o8eIvWZ0jqTA"
      },
      "execution_count": null,
      "outputs": []
    }
  ]
}